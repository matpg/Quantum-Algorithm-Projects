{
  "nbformat": 4,
  "nbformat_minor": 0,
  "metadata": {
    "colab": {
      "name": "TestingCirq.ipynb",
      "provenance": [],
      "include_colab_link": true
    },
    "kernelspec": {
      "name": "python3",
      "display_name": "Python 3"
    },
    "accelerator": "GPU"
  },
  "cells": [
    {
      "cell_type": "markdown",
      "metadata": {
        "id": "view-in-github",
        "colab_type": "text"
      },
      "source": [
        "<a href=\"https://colab.research.google.com/github/matpg/Quantum-Algorithm-Projects/blob/master/TestingCirq.ipynb\" target=\"_parent\"><img src=\"https://colab.research.google.com/assets/colab-badge.svg\" alt=\"Open In Colab\"/></a>"
      ]
    },
    {
      "cell_type": "markdown",
      "metadata": {
        "id": "M68BTptfLaA2",
        "colab_type": "text"
      },
      "source": [
        "## First circuit using Cirq"
      ]
    },
    {
      "cell_type": "code",
      "metadata": {
        "id": "vjuty2HpIznE",
        "colab_type": "code",
        "colab": {}
      },
      "source": [
        "!pip install cirq"
      ],
      "execution_count": 0,
      "outputs": []
    },
    {
      "cell_type": "code",
      "metadata": {
        "id": "TEjZ2tgaJjfS",
        "colab_type": "code",
        "outputId": "7e3b2689-3652-435f-818e-0502a29a6f95",
        "colab": {
          "base_uri": "https://localhost:8080/",
          "height": 72
        }
      },
      "source": [
        "import cirq as cq\n",
        "circuit = cq.Circuit()\n",
        "(q0, q1) = cq.LineQubit.range(2)\n",
        "\n",
        "circuit.append([cq.H(q0),cq.CNOT(q0, q1)])\n",
        "circuit.append([cq.measure(q0),cq.measure(q1)])\n",
        "print(circuit)"
      ],
      "execution_count": 0,
      "outputs": [
        {
          "output_type": "stream",
          "text": [
            "0: ───H───@───M───\n",
            "          │\n",
            "1: ───────X───M───\n"
          ],
          "name": "stdout"
        }
      ]
    },
    {
      "cell_type": "markdown",
      "metadata": {
        "id": "ovoNGBAdLfiv",
        "colab_type": "text"
      },
      "source": [
        "## Simulating the circuit"
      ]
    },
    {
      "cell_type": "code",
      "metadata": {
        "id": "llFGEoKEKDEG",
        "colab_type": "code",
        "outputId": "9b5e0ef8-33f1-4db2-8b62-542e7b794abc",
        "colab": {
          "base_uri": "https://localhost:8080/",
          "height": 53
        }
      },
      "source": [
        "sim = cq.Simulator()\n",
        "results = sim.run(circuit, repetitions = 10)\n",
        "print(results)"
      ],
      "execution_count": 0,
      "outputs": [
        {
          "output_type": "stream",
          "text": [
            "0=1001110110\n",
            "1=1001110110\n"
          ],
          "name": "stdout"
        }
      ]
    },
    {
      "cell_type": "code",
      "metadata": {
        "id": "dMeONltHMB-n",
        "colab_type": "code",
        "outputId": "da0ce162-e0b7-4518-ca09-d5797bf3540b",
        "colab": {
          "base_uri": "https://localhost:8080/",
          "height": 581
        }
      },
      "source": [
        "print(cq.google.Bristlecone)"
      ],
      "execution_count": 0,
      "outputs": [
        {
          "output_type": "stream",
          "text": [
            "                                             (0, 5)────(0, 6)\n",
            "                                             │         │\n",
            "                                             │         │\n",
            "                                    (1, 4)───(1, 5)────(1, 6)────(1, 7)\n",
            "                                    │        │         │         │\n",
            "                                    │        │         │         │\n",
            "                           (2, 3)───(2, 4)───(2, 5)────(2, 6)────(2, 7)───(2, 8)\n",
            "                           │        │        │         │         │        │\n",
            "                           │        │        │         │         │        │\n",
            "                  (3, 2)───(3, 3)───(3, 4)───(3, 5)────(3, 6)────(3, 7)───(3, 8)───(3, 9)\n",
            "                  │        │        │        │         │         │        │        │\n",
            "                  │        │        │        │         │         │        │        │\n",
            "         (4, 1)───(4, 2)───(4, 3)───(4, 4)───(4, 5)────(4, 6)────(4, 7)───(4, 8)───(4, 9)───(4, 10)\n",
            "         │        │        │        │        │         │         │        │        │        │\n",
            "         │        │        │        │        │         │         │        │        │        │\n",
            "(5, 0)───(5, 1)───(5, 2)───(5, 3)───(5, 4)───(5, 5)────(5, 6)────(5, 7)───(5, 8)───(5, 9)───(5, 10)───(5, 11)\n",
            "         │        │        │        │        │         │         │        │        │        │\n",
            "         │        │        │        │        │         │         │        │        │        │\n",
            "         (6, 1)───(6, 2)───(6, 3)───(6, 4)───(6, 5)────(6, 6)────(6, 7)───(6, 8)───(6, 9)───(6, 10)\n",
            "                  │        │        │        │         │         │        │        │\n",
            "                  │        │        │        │         │         │        │        │\n",
            "                  (7, 2)───(7, 3)───(7, 4)───(7, 5)────(7, 6)────(7, 7)───(7, 8)───(7, 9)\n",
            "                           │        │        │         │         │        │\n",
            "                           │        │        │         │         │        │\n",
            "                           (8, 3)───(8, 4)───(8, 5)────(8, 6)────(8, 7)───(8, 8)\n",
            "                                    │        │         │         │\n",
            "                                    │        │         │         │\n",
            "                                    (9, 4)───(9, 5)────(9, 6)────(9, 7)\n",
            "                                             │         │\n",
            "                                             │         │\n",
            "                                             (10, 5)───(10, 6)\n"
          ],
          "name": "stdout"
        }
      ]
    },
    {
      "cell_type": "code",
      "metadata": {
        "id": "bp1tx_7sNXam",
        "colab_type": "code",
        "outputId": "eccc50bb-030c-4e2c-ba79-37f59bb532a1",
        "colab": {
          "base_uri": "https://localhost:8080/",
          "height": 139
        }
      },
      "source": [
        "device = cq.google.Bristlecone\n",
        "circuit2 = cq.Circuit(device=device)\n",
        "a0, a1 = cq.GridQubit(5, 5), cq.GridQubit(5, 6)\n",
        "b0, b1 = cq.GridQubit(6, 5), cq.GridQubit(6, 6)\n",
        "circuit2.append([cq.CZ(a0, a1), cq.CZ(b0, b1)])\n",
        "circuit2"
      ],
      "execution_count": 0,
      "outputs": [
        {
          "output_type": "execute_result",
          "data": {
            "text/html": [
              "<pre style=\"overflow: auto; white-space: pre;\">(5, 5): ───@───────\n",
              "           │\n",
              "(5, 6): ───@───────\n",
              "\n",
              "(6, 5): ───────@───\n",
              "               │\n",
              "(6, 6): ───────@───</pre>"
            ],
            "text/plain": [
              "(5, 5): ───@───────\n",
              "           │\n",
              "(5, 6): ───@───────\n",
              "\n",
              "(6, 5): ───────@───\n",
              "               │\n",
              "(6, 6): ───────@───"
            ]
          },
          "metadata": {
            "tags": []
          },
          "execution_count": 14
        }
      ]
    },
    {
      "cell_type": "code",
      "metadata": {
        "id": "uj19HsKyO_Zs",
        "colab_type": "code",
        "colab": {}
      },
      "source": [
        ""
      ],
      "execution_count": 0,
      "outputs": []
    }
  ]
}